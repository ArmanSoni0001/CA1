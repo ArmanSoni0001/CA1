{
 "cells": [
  {
   "cell_type": "code",
   "execution_count": 1,
   "metadata": {},
   "outputs": [],
   "source": [
    "import pandas as pd\n",
    "import seaborn as sb\n"
   ]
  },
  {
   "cell_type": "code",
   "execution_count": 9,
   "metadata": {},
   "outputs": [
    {
     "name": "stdout",
     "output_type": "stream",
     "text": [
      "Total energy consumed by all vehicles:\n",
      "VehicleID\n",
      "203    145\n",
      "204    134\n",
      "205    200\n",
      "206    156\n",
      "207    145\n",
      "      ... \n",
      "297     24\n",
      "298     73\n",
      "299     66\n",
      "300     52\n",
      "301     67\n",
      "Name: Energy_consumed, Length: 99, dtype: int64\n"
     ]
    }
   ],
   "source": [
    "import pandas as pd\n",
    "\n",
    "file_path = 'C:/Users/Arman Soni/OneDrive/Desktop/ev_charging.csv'  # Path to the uploaded file\n",
    "\n",
    "\n",
    "class ChargingStationManager:\n",
    "    def __init__(self, file_path):\n",
    "        # Load the dataset from a CSV file\n",
    "        self.ev_charging = pd.read_csv(file_path)\n",
    "\n",
    "    # Method to add a new charging session to the dataset\n",
    "    def add_charging_session(self, vehicleid, sessionid, energy_consumed, charging_duration, cost):\n",
    "        new_session = pd.DataFrame({\n",
    "            'VehicleID': [vehicleid],\n",
    "            'SessionID': [sessionid],\n",
    "            'Energy_consumed': [energy_consumed],\n",
    "            'Charging_duration': [charging_duration],\n",
    "            'Cost': [cost]\n",
    "        })\n",
    "        self.ev_charging = pd.concat([self.ev_charging, new_session], ignore_index=True)\n",
    "\n",
    "    # Method to compute total energy consumption for all vehicles\n",
    "    def compute_total_energy_all_vehicles(self):\n",
    "        # Group by VehicleID and sum the energy consumed\n",
    "        total_energy_per_vehicle = self.ev_charging.groupby('VehicleID')['Energy_consumed'].sum()\n",
    "        return total_energy_per_vehicle\n",
    "\n",
    "\n",
    "\n",
    "# Compute total energy consumption for all vehicles\n",
    "manager = ChargingStationManager(file_path)\n",
    "total_energy_all_vehicles = manager.compute_total_energy_all_vehicles()\n",
    "print(\"Total energy consumed by all vehicles:\")\n",
    "print(total_energy_all_vehicles)\n"
   ]
  },
  {
   "cell_type": "code",
   "execution_count": null,
   "metadata": {},
   "outputs": [],
   "source": []
  }
 ],
 "metadata": {
  "kernelspec": {
   "display_name": "Python 3",
   "language": "python",
   "name": "python3"
  },
  "language_info": {
   "codemirror_mode": {
    "name": "ipython",
    "version": 3
   },
   "file_extension": ".py",
   "mimetype": "text/x-python",
   "name": "python",
   "nbconvert_exporter": "python",
   "pygments_lexer": "ipython3",
   "version": "3.12.5"
  }
 },
 "nbformat": 4,
 "nbformat_minor": 2
}
